{
 "cells": [
  {
   "cell_type": "code",
   "execution_count": 1,
   "metadata": {
    "colab": {
     "base_uri": "https://localhost:8080/",
     "height": 837
    },
    "colab_type": "code",
    "id": "rGXA9XY_TpWm",
    "outputId": "facc3f0f-0f0c-4ef2-ad41-f11cd7ef9b45"
   },
   "outputs": [],
   "source": [
    "import tensorflow as tf\n",
    "from tensorflow.keras.preprocessing.image import ImageDataGenerator"
   ]
  },
  {
   "cell_type": "code",
   "execution_count": 2,
   "metadata": {
    "colab": {},
    "colab_type": "code",
    "id": "z9ovQ1VfYq9P"
   },
   "outputs": [],
   "source": [
    "# the generator will crop all images into this shape\n",
    "image_shape = (224, 224)\n",
    "# this means images are in RGB mode\n",
    "channel = 3\n",
    "full_image_shape = image_shape + (channel, )\n",
    "batch_size = 32\n",
    "num_classes = 150"
   ]
  },
  {
   "cell_type": "code",
   "execution_count": 3,
   "metadata": {
    "colab": {
     "base_uri": "https://localhost:8080/",
     "height": 54
    },
    "colab_type": "code",
    "id": "HPCopjXZTmKA",
    "outputId": "36db79e8-527c-40e6-8382-4d33c921fd9e"
   },
   "outputs": [
    {
     "name": "stdout",
     "output_type": "stream",
     "text": [
      "Found 5511 images belonging to 150 classes.\n",
      "Found 1309 images belonging to 150 classes.\n"
     ]
    }
   ],
   "source": [
    "datagen = ImageDataGenerator(\n",
    "    # makes all value in range between 0 and 1\n",
    "    rescale=1. / 255,\n",
    "    # we'll finally get 5511 images for training and 1309 for validation\n",
    "    validation_split=0.2\n",
    ")\n",
    "\n",
    "# flow_from_directory reads only one batch of data each step, \n",
    "# this is helpful when dataset is too huge to be completely stored in memory\n",
    "train_generator = datagen.flow_from_directory(\n",
    "    directory='PokemonData',\n",
    "    target_size=image_shape, \n",
    "    batch_size=batch_size, \n",
    "    subset='training'\n",
    ")\n",
    "\n",
    "val_generator = datagen.flow_from_directory(\n",
    "    directory='PokemonData',\n",
    "    target_size=image_shape, \n",
    "    batch_size=batch_size, \n",
    "    subset='validation'\n",
    ")"
   ]
  },
  {
   "cell_type": "code",
   "execution_count": 4,
   "metadata": {
    "colab": {},
    "colab_type": "code",
    "id": "81pkg9EguWm6"
   },
   "outputs": [],
   "source": [
    "# the number of batches which is also the steps per epoch\n",
    "num_train = len(train_generator)\n",
    "num_val = len(val_generator)"
   ]
  },
  {
   "cell_type": "code",
   "execution_count": 5,
   "metadata": {
    "colab": {},
    "colab_type": "code",
    "id": "CaQ_oNY8ypT7"
   },
   "outputs": [],
   "source": [
    "from tensorflow.keras.applications.mobilenet_v2 import MobileNetV2\n",
    "from tensorflow.keras.layers import Input\n",
    "from tensorflow.keras.layers import Dense\n",
    "from tensorflow.keras.layers import GlobalMaxPooling2D\n",
    "from tensorflow.keras.models import Model\n",
    "from tensorflow.keras.optimizers import Adam"
   ]
  },
  {
   "cell_type": "code",
   "execution_count": 6,
   "metadata": {
    "colab": {
     "base_uri": "https://localhost:8080/",
     "height": 74
    },
    "colab_type": "code",
    "id": "C2BgMph5rT6b",
    "outputId": "03209f19-873b-4d2d-e375-0da31beb4a6a"
   },
   "outputs": [],
   "source": [
    "base_model = MobileNetV2(\n",
    "    input_shape=full_image_shape, \n",
    "    alpha=1.0, \n",
    "    include_top=False, \n",
    "    # this is the pretrained weights used in images processing\n",
    "    weights='imagenet', \n",
    "    input_tensor=Input(full_image_shape), \n",
    "    pooling=None, \n",
    "    classes=num_classes\n",
    ")"
   ]
  },
  {
   "cell_type": "code",
   "execution_count": 7,
   "metadata": {
    "colab": {},
    "colab_type": "code",
    "id": "fI6f1pg1tDay"
   },
   "outputs": [],
   "source": [
    "# snag the last layer of the imported model\n",
    "x = base_model.layers[-1].output\n",
    "\n",
    "x = GlobalMaxPooling2D()(x)\n",
    "x = Dense(1024,activation='relu')(x)\n",
    "x = Dense(num_classes, activation='softmax', name='predictions')(x)\n",
    "\n",
    "# we can define the last few layers by ourselves\n",
    "model = Model(inputs=base_model.input, outputs=x)\n",
    "\n",
    "# let's train all the layers\n",
    "for layer in model.layers:\n",
    "    layer.training = True"
   ]
  },
  {
   "cell_type": "code",
   "execution_count": 8,
   "metadata": {
    "colab": {},
    "colab_type": "code",
    "id": "5F-E_vNLtwmB"
   },
   "outputs": [],
   "source": [
    "from tensorflow.keras.callbacks import ReduceLROnPlateau\n",
    "from tensorflow.keras.callbacks import EarlyStopping\n",
    "from tensorflow.keras.callbacks import ModelCheckpoint"
   ]
  },
  {
   "cell_type": "code",
   "execution_count": 9,
   "metadata": {
    "colab": {},
    "colab_type": "code",
    "id": "C0Gq4iBgtkQ1"
   },
   "outputs": [],
   "source": [
    "# these are utilities to maximize learning, while preventing over-fitting\n",
    "reduce_lr = ReduceLROnPlateau(\n",
    "    monitor='val_loss', \n",
    "    patience=12, \n",
    "    cooldown=6, \n",
    "    rate=0.6,  \n",
    "    min_lr=1e8, \n",
    "    verbose=1\n",
    ")\n",
    "early_stop = EarlyStopping(\n",
    "    monitor='val_loss', \n",
    "    patience=24, \n",
    "    verbose=1\n",
    ")\n",
    "\n",
    "# this save the best model which has the minimal validation loss\n",
    "checkpoint = ModelCheckpoint(\n",
    "    'model.h5', \n",
    "    monitor='val_loss', \n",
    "    mode='min', \n",
    "    save_best_only=True)"
   ]
  },
  {
   "cell_type": "code",
   "execution_count": 10,
   "metadata": {
    "colab": {},
    "colab_type": "code",
    "id": "XnJEq-TMvllD"
   },
   "outputs": [],
   "source": [
    "# compile and train the network\n",
    "model.compile(\n",
    "    optimizer=Adam(1e-4), \n",
    "    loss='categorical_crossentropy', \n",
    "    metrics=['accuracy']\n",
    ")"
   ]
  },
  {
   "cell_type": "code",
   "execution_count": 11,
   "metadata": {
    "colab": {
     "base_uri": "https://localhost:8080/",
     "height": 55
    },
    "colab_type": "code",
    "id": "mbXOjv1TuGRD",
    "outputId": "1b0dc4e9-44b1-4e53-c6cb-3c185128c646"
   },
   "outputs": [
    {
     "name": "stdout",
     "output_type": "stream",
     "text": [
      "Epoch 1/200\n",
      "WARNING:tensorflow:From /home/tom2003611/.local/lib/python3.7/site-packages/tensorflow/python/ops/math_grad.py:1250: add_dispatch_support.<locals>.wrapper (from tensorflow.python.ops.array_ops) is deprecated and will be removed in a future version.\n",
      "Instructions for updating:\n",
      "Use tf.where in 2.0, which has the same broadcast rule as np.where\n",
      "173/173 [==============================] - 155s 893ms/step - loss: 4.8642 - accuracy: 0.1303 - val_loss: 3.6100 - val_accuracy: 0.2376\n",
      "Epoch 2/200\n",
      "173/173 [==============================] - 92s 532ms/step - loss: 1.3555 - accuracy: 0.6739 - val_loss: 2.2955 - val_accuracy: 0.4469\n",
      "Epoch 3/200\n",
      "173/173 [==============================] - 92s 531ms/step - loss: 0.3731 - accuracy: 0.9109 - val_loss: 1.5594 - val_accuracy: 0.6203\n",
      "Epoch 4/200\n",
      "173/173 [==============================] - 93s 535ms/step - loss: 0.1343 - accuracy: 0.9721 - val_loss: 1.2274 - val_accuracy: 0.6929\n",
      "Epoch 5/200\n",
      "173/173 [==============================] - 92s 532ms/step - loss: 0.0561 - accuracy: 0.9922 - val_loss: 1.0860 - val_accuracy: 0.7357\n",
      "Epoch 6/200\n",
      "173/173 [==============================] - 92s 530ms/step - loss: 0.0468 - accuracy: 0.9940 - val_loss: 1.0232 - val_accuracy: 0.7441\n",
      "Epoch 7/200\n",
      "173/173 [==============================] - 92s 529ms/step - loss: 0.0435 - accuracy: 0.9938 - val_loss: 0.9503 - val_accuracy: 0.7586\n",
      "Epoch 8/200\n",
      "173/173 [==============================] - 93s 535ms/step - loss: 0.0394 - accuracy: 0.9949 - val_loss: 0.8747 - val_accuracy: 0.7731\n",
      "Epoch 9/200\n",
      "173/173 [==============================] - 92s 530ms/step - loss: 0.0353 - accuracy: 0.9946 - val_loss: 0.8312 - val_accuracy: 0.7892\n",
      "Epoch 10/200\n",
      "173/173 [==============================] - 92s 529ms/step - loss: 0.0358 - accuracy: 0.9935 - val_loss: 0.8776 - val_accuracy: 0.7838\n",
      "Epoch 11/200\n",
      "173/173 [==============================] - 92s 530ms/step - loss: 0.0334 - accuracy: 0.9951 - val_loss: 0.8322 - val_accuracy: 0.8014\n",
      "Epoch 12/200\n",
      "173/173 [==============================] - 91s 527ms/step - loss: 0.0404 - accuracy: 0.9940 - val_loss: 0.8709 - val_accuracy: 0.7884\n",
      "Epoch 13/200\n",
      "173/173 [==============================] - 92s 529ms/step - loss: 0.0377 - accuracy: 0.9931 - val_loss: 0.9012 - val_accuracy: 0.7846\n",
      "Epoch 14/200\n",
      "173/173 [==============================] - 91s 527ms/step - loss: 0.0330 - accuracy: 0.9924 - val_loss: 0.8605 - val_accuracy: 0.7991\n",
      "Epoch 15/200\n",
      "173/173 [==============================] - 91s 526ms/step - loss: 0.0701 - accuracy: 0.9880 - val_loss: 0.9135 - val_accuracy: 0.7884\n",
      "Epoch 16/200\n",
      "173/173 [==============================] - 91s 524ms/step - loss: 0.0614 - accuracy: 0.9866 - val_loss: 0.8995 - val_accuracy: 0.7960\n",
      "Epoch 17/200\n",
      "173/173 [==============================] - 91s 524ms/step - loss: 0.0633 - accuracy: 0.9871 - val_loss: 0.9674 - val_accuracy: 0.7815\n",
      "Epoch 18/200\n",
      "173/173 [==============================] - 91s 524ms/step - loss: 0.0570 - accuracy: 0.9878 - val_loss: 0.9945 - val_accuracy: 0.7800\n",
      "Epoch 19/200\n",
      "173/173 [==============================] - 91s 525ms/step - loss: 0.0408 - accuracy: 0.9915 - val_loss: 0.8505 - val_accuracy: 0.8197\n",
      "Epoch 20/200\n",
      "173/173 [==============================] - 91s 526ms/step - loss: 0.0594 - accuracy: 0.9864 - val_loss: 0.8586 - val_accuracy: 0.8098\n",
      "Epoch 21/200\n",
      "173/173 [==============================] - 91s 524ms/step - loss: 0.0443 - accuracy: 0.9913 - val_loss: 0.8305 - val_accuracy: 0.8136\n",
      "Epoch 22/200\n",
      "173/173 [==============================] - 91s 525ms/step - loss: 0.0792 - accuracy: 0.9849 - val_loss: 0.8869 - val_accuracy: 0.8167\n",
      "Epoch 23/200\n",
      "173/173 [==============================] - 92s 530ms/step - loss: 0.0550 - accuracy: 0.9895 - val_loss: 0.7561 - val_accuracy: 0.8304\n",
      "Epoch 24/200\n",
      "173/173 [==============================] - 90s 522ms/step - loss: 0.0314 - accuracy: 0.9933 - val_loss: 0.8786 - val_accuracy: 0.8060\n",
      "Epoch 25/200\n",
      "173/173 [==============================] - 91s 525ms/step - loss: 0.0859 - accuracy: 0.9831 - val_loss: 0.8298 - val_accuracy: 0.8151\n",
      "Epoch 26/200\n",
      "173/173 [==============================] - 90s 521ms/step - loss: 0.0397 - accuracy: 0.9911 - val_loss: 0.8049 - val_accuracy: 0.8167\n",
      "Epoch 27/200\n",
      "173/173 [==============================] - 90s 522ms/step - loss: 0.0682 - accuracy: 0.9864 - val_loss: 0.8874 - val_accuracy: 0.8075\n",
      "Epoch 28/200\n",
      "173/173 [==============================] - 90s 520ms/step - loss: 0.0389 - accuracy: 0.9935 - val_loss: 0.8362 - val_accuracy: 0.8266\n",
      "Epoch 29/200\n",
      "173/173 [==============================] - 91s 528ms/step - loss: 0.0447 - accuracy: 0.9906 - val_loss: 0.7059 - val_accuracy: 0.8518\n",
      "Epoch 30/200\n",
      "173/173 [==============================] - 91s 525ms/step - loss: 0.0675 - accuracy: 0.9902 - val_loss: 0.7497 - val_accuracy: 0.8419\n",
      "Epoch 31/200\n",
      "173/173 [==============================] - 91s 525ms/step - loss: 0.0223 - accuracy: 0.9960 - val_loss: 0.6448 - val_accuracy: 0.8671\n",
      "Epoch 32/200\n",
      "173/173 [==============================] - 91s 526ms/step - loss: 0.0282 - accuracy: 0.9938 - val_loss: 0.6415 - val_accuracy: 0.8602\n",
      "Epoch 33/200\n",
      "173/173 [==============================] - 91s 527ms/step - loss: 0.0324 - accuracy: 0.9926 - val_loss: 0.5964 - val_accuracy: 0.8694\n",
      "Epoch 34/200\n",
      "173/173 [==============================] - 91s 523ms/step - loss: 0.0331 - accuracy: 0.9938 - val_loss: 0.9146 - val_accuracy: 0.8128\n",
      "Epoch 35/200\n",
      "173/173 [==============================] - 91s 523ms/step - loss: 0.0535 - accuracy: 0.9864 - val_loss: 0.7951 - val_accuracy: 0.8342\n",
      "Epoch 36/200\n",
      "173/173 [==============================] - 90s 521ms/step - loss: 0.0493 - accuracy: 0.9858 - val_loss: 0.7548 - val_accuracy: 0.8464\n",
      "Epoch 37/200\n",
      "173/173 [==============================] - 90s 523ms/step - loss: 0.0300 - accuracy: 0.9931 - val_loss: 0.5990 - val_accuracy: 0.8747\n",
      "Epoch 38/200\n",
      "173/173 [==============================] - 90s 522ms/step - loss: 0.0173 - accuracy: 0.9956 - val_loss: 0.6192 - val_accuracy: 0.8747\n",
      "Epoch 39/200\n",
      "173/173 [==============================] - 90s 523ms/step - loss: 0.0257 - accuracy: 0.9933 - val_loss: 0.6398 - val_accuracy: 0.8694\n",
      "Epoch 40/200\n",
      "173/173 [==============================] - 90s 522ms/step - loss: 0.0217 - accuracy: 0.9935 - val_loss: 0.7656 - val_accuracy: 0.8526\n",
      "Epoch 41/200\n",
      "173/173 [==============================] - 90s 523ms/step - loss: 0.0306 - accuracy: 0.9927 - val_loss: 0.7415 - val_accuracy: 0.8518\n",
      "Epoch 42/200\n",
      "173/173 [==============================] - 90s 522ms/step - loss: 0.0219 - accuracy: 0.9940 - val_loss: 0.6478 - val_accuracy: 0.8747\n",
      "Epoch 43/200\n",
      "173/173 [==============================] - 91s 523ms/step - loss: 0.0196 - accuracy: 0.9958 - val_loss: 0.6531 - val_accuracy: 0.8846\n",
      "Epoch 44/200\n",
      "173/173 [==============================] - 91s 523ms/step - loss: 0.0184 - accuracy: 0.9962 - val_loss: 0.6801 - val_accuracy: 0.8831\n",
      "Epoch 45/200\n",
      "173/173 [==============================] - 91s 524ms/step - loss: 0.0170 - accuracy: 0.9962 - val_loss: 0.5909 - val_accuracy: 0.8908\n",
      "Epoch 46/200\n",
      "173/173 [==============================] - 91s 525ms/step - loss: 0.0130 - accuracy: 0.9971 - val_loss: 0.7661 - val_accuracy: 0.8571\n",
      "Epoch 47/200\n",
      "173/173 [==============================] - 91s 525ms/step - loss: 0.0577 - accuracy: 0.9822 - val_loss: 0.8316 - val_accuracy: 0.8380\n",
      "Epoch 48/200\n",
      "173/173 [==============================] - 90s 521ms/step - loss: 0.0361 - accuracy: 0.9907 - val_loss: 0.8317 - val_accuracy: 0.8335\n",
      "Epoch 49/200\n",
      "173/173 [==============================] - 91s 523ms/step - loss: 0.0310 - accuracy: 0.9917 - val_loss: 0.6979 - val_accuracy: 0.8655\n",
      "Epoch 50/200\n",
      "173/173 [==============================] - 90s 520ms/step - loss: 0.0515 - accuracy: 0.9868 - val_loss: 0.8814 - val_accuracy: 0.8411\n",
      "Epoch 51/200\n",
      "173/173 [==============================] - 90s 519ms/step - loss: 0.0424 - accuracy: 0.9891 - val_loss: 0.9134 - val_accuracy: 0.8296\n",
      "Epoch 52/200\n",
      "173/173 [==============================] - 90s 522ms/step - loss: 0.0183 - accuracy: 0.9960 - val_loss: 0.7536 - val_accuracy: 0.8457\n",
      "Epoch 53/200\n",
      "173/173 [==============================] - 91s 524ms/step - loss: 0.0122 - accuracy: 0.9969 - val_loss: 0.6280 - val_accuracy: 0.8770\n",
      "Epoch 54/200\n"
     ]
    },
    {
     "name": "stdout",
     "output_type": "stream",
     "text": [
      "173/173 [==============================] - 90s 522ms/step - loss: 0.0113 - accuracy: 0.9975 - val_loss: 0.5729 - val_accuracy: 0.8869\n",
      "Epoch 55/200\n",
      "173/173 [==============================] - 91s 524ms/step - loss: 0.0122 - accuracy: 0.9976 - val_loss: 0.4937 - val_accuracy: 0.8992\n",
      "Epoch 56/200\n",
      "173/173 [==============================] - 90s 521ms/step - loss: 0.0086 - accuracy: 0.9980 - val_loss: 0.5186 - val_accuracy: 0.8992\n",
      "Epoch 57/200\n",
      "173/173 [==============================] - 90s 518ms/step - loss: 0.0147 - accuracy: 0.9969 - val_loss: 0.5703 - val_accuracy: 0.8930\n",
      "Epoch 58/200\n",
      "173/173 [==============================] - 90s 521ms/step - loss: 0.0132 - accuracy: 0.9964 - val_loss: 0.5123 - val_accuracy: 0.8999\n",
      "Epoch 59/200\n",
      "173/173 [==============================] - 90s 519ms/step - loss: 0.0290 - accuracy: 0.9933 - val_loss: 0.8358 - val_accuracy: 0.8442\n",
      "Epoch 60/200\n",
      "173/173 [==============================] - 90s 521ms/step - loss: 0.0921 - accuracy: 0.9791 - val_loss: 0.9765 - val_accuracy: 0.8105\n",
      "Epoch 61/200\n",
      "173/173 [==============================] - 90s 518ms/step - loss: 0.0375 - accuracy: 0.9900 - val_loss: 0.9739 - val_accuracy: 0.8144\n",
      "Epoch 62/200\n",
      "173/173 [==============================] - 91s 523ms/step - loss: 0.0312 - accuracy: 0.9924 - val_loss: 0.8384 - val_accuracy: 0.8411\n",
      "Epoch 63/200\n",
      "173/173 [==============================] - 91s 524ms/step - loss: 0.0302 - accuracy: 0.9915 - val_loss: 0.7504 - val_accuracy: 0.8640\n",
      "Epoch 64/200\n",
      "173/173 [==============================] - 91s 524ms/step - loss: 0.0229 - accuracy: 0.9947 - val_loss: 0.6364 - val_accuracy: 0.8885\n",
      "Epoch 65/200\n",
      "173/173 [==============================] - 90s 521ms/step - loss: 0.0428 - accuracy: 0.9902 - val_loss: 0.7306 - val_accuracy: 0.8633\n",
      "Epoch 66/200\n",
      "173/173 [==============================] - 89s 517ms/step - loss: 0.0129 - accuracy: 0.9962 - val_loss: 0.6096 - val_accuracy: 0.8961\n",
      "Epoch 67/200\n",
      "172/173 [============================>.] - ETA: 0s - loss: 0.0231 - accuracy: 0.9943\n",
      "Epoch 00067: ReduceLROnPlateau reducing learning rate to 9.999999747378752e-06.\n",
      "173/173 [==============================] - 90s 519ms/step - loss: 0.0230 - accuracy: 0.9944 - val_loss: 0.5914 - val_accuracy: 0.8770\n",
      "Epoch 68/200\n",
      "173/173 [==============================] - 90s 520ms/step - loss: 0.0134 - accuracy: 0.9973 - val_loss: 0.5135 - val_accuracy: 0.8992\n",
      "Epoch 69/200\n",
      "173/173 [==============================] - 90s 522ms/step - loss: 0.0065 - accuracy: 0.9982 - val_loss: 0.4772 - val_accuracy: 0.9076\n",
      "Epoch 70/200\n",
      "173/173 [==============================] - 91s 524ms/step - loss: 0.0093 - accuracy: 0.9982 - val_loss: 0.4574 - val_accuracy: 0.9175\n",
      "Epoch 71/200\n",
      "173/173 [==============================] - 90s 523ms/step - loss: 0.0059 - accuracy: 0.9985 - val_loss: 0.4390 - val_accuracy: 0.9175\n",
      "Epoch 72/200\n",
      "173/173 [==============================] - 91s 526ms/step - loss: 0.0048 - accuracy: 0.9993 - val_loss: 0.4301 - val_accuracy: 0.9183\n",
      "Epoch 73/200\n",
      "173/173 [==============================] - 91s 526ms/step - loss: 0.0051 - accuracy: 0.9991 - val_loss: 0.4242 - val_accuracy: 0.9206\n",
      "Epoch 74/200\n",
      "173/173 [==============================] - 91s 523ms/step - loss: 0.0048 - accuracy: 0.9985 - val_loss: 0.4210 - val_accuracy: 0.9190\n",
      "Epoch 75/200\n",
      "173/173 [==============================] - 91s 525ms/step - loss: 0.0051 - accuracy: 0.9985 - val_loss: 0.4195 - val_accuracy: 0.9206\n",
      "Epoch 76/200\n",
      "173/173 [==============================] - 91s 524ms/step - loss: 0.0048 - accuracy: 0.9987 - val_loss: 0.4171 - val_accuracy: 0.9221\n",
      "Epoch 77/200\n",
      "173/173 [==============================] - 91s 524ms/step - loss: 0.0049 - accuracy: 0.9985 - val_loss: 0.4157 - val_accuracy: 0.9206\n",
      "Epoch 78/200\n",
      "173/173 [==============================] - 90s 519ms/step - loss: 0.0061 - accuracy: 0.9984 - val_loss: 0.4208 - val_accuracy: 0.9198\n",
      "Epoch 79/200\n",
      "173/173 [==============================] - 91s 524ms/step - loss: 0.0056 - accuracy: 0.9984 - val_loss: 0.4143 - val_accuracy: 0.9213\n",
      "Epoch 80/200\n",
      "173/173 [==============================] - 89s 516ms/step - loss: 0.0046 - accuracy: 0.9989 - val_loss: 0.4163 - val_accuracy: 0.9213\n",
      "Epoch 81/200\n",
      "173/173 [==============================] - 91s 524ms/step - loss: 0.0045 - accuracy: 0.9989 - val_loss: 0.4140 - val_accuracy: 0.9221\n",
      "Epoch 82/200\n",
      "173/173 [==============================] - 90s 521ms/step - loss: 0.0048 - accuracy: 0.9989 - val_loss: 0.4257 - val_accuracy: 0.9221\n",
      "Epoch 83/200\n",
      "173/173 [==============================] - 90s 518ms/step - loss: 0.0046 - accuracy: 0.9985 - val_loss: 0.4234 - val_accuracy: 0.9206\n",
      "Epoch 84/200\n",
      "173/173 [==============================] - 90s 522ms/step - loss: 0.0044 - accuracy: 0.9989 - val_loss: 0.4223 - val_accuracy: 0.9221\n",
      "Epoch 85/200\n",
      "173/173 [==============================] - 90s 520ms/step - loss: 0.0045 - accuracy: 0.9987 - val_loss: 0.4183 - val_accuracy: 0.9206\n",
      "Epoch 86/200\n",
      "173/173 [==============================] - 89s 517ms/step - loss: 0.0046 - accuracy: 0.9987 - val_loss: 0.4181 - val_accuracy: 0.9183\n",
      "Epoch 87/200\n",
      "173/173 [==============================] - 89s 517ms/step - loss: 0.0044 - accuracy: 0.9987 - val_loss: 0.4163 - val_accuracy: 0.9198\n",
      "Epoch 88/200\n",
      "173/173 [==============================] - 90s 519ms/step - loss: 0.0045 - accuracy: 0.9987 - val_loss: 0.4148 - val_accuracy: 0.9213\n",
      "Epoch 89/200\n",
      "173/173 [==============================] - 89s 517ms/step - loss: 0.0046 - accuracy: 0.9987 - val_loss: 0.4148 - val_accuracy: 0.9190\n",
      "Epoch 90/200\n",
      "173/173 [==============================] - 89s 516ms/step - loss: 0.0044 - accuracy: 0.9991 - val_loss: 0.4194 - val_accuracy: 0.9213\n",
      "Epoch 91/200\n",
      "173/173 [==============================] - 90s 520ms/step - loss: 0.0042 - accuracy: 0.9987 - val_loss: 0.4171 - val_accuracy: 0.9236\n",
      "Epoch 92/200\n",
      "173/173 [==============================] - 90s 520ms/step - loss: 0.0047 - accuracy: 0.9985 - val_loss: 0.4147 - val_accuracy: 0.9244\n",
      "Epoch 93/200\n",
      "173/173 [==============================] - 91s 528ms/step - loss: 0.0043 - accuracy: 0.9991 - val_loss: 0.4111 - val_accuracy: 0.9244\n",
      "Epoch 94/200\n",
      "173/173 [==============================] - 91s 529ms/step - loss: 0.0044 - accuracy: 0.9991 - val_loss: 0.4095 - val_accuracy: 0.9190\n",
      "Epoch 95/200\n",
      "173/173 [==============================] - 90s 521ms/step - loss: 0.0067 - accuracy: 0.9985 - val_loss: 0.4179 - val_accuracy: 0.9198\n",
      "Epoch 96/200\n",
      "173/173 [==============================] - 91s 523ms/step - loss: 0.0048 - accuracy: 0.9987 - val_loss: 0.4137 - val_accuracy: 0.9221\n",
      "Epoch 97/200\n",
      "173/173 [==============================] - 91s 526ms/step - loss: 0.0043 - accuracy: 0.9987 - val_loss: 0.4094 - val_accuracy: 0.9213\n",
      "Epoch 98/200\n",
      "173/173 [==============================] - 90s 523ms/step - loss: 0.0047 - accuracy: 0.9987 - val_loss: 0.4104 - val_accuracy: 0.9221\n",
      "Epoch 99/200\n",
      "173/173 [==============================] - 92s 529ms/step - loss: 0.0047 - accuracy: 0.9987 - val_loss: 0.4088 - val_accuracy: 0.9213\n",
      "Epoch 100/200\n",
      "173/173 [==============================] - 91s 525ms/step - loss: 0.0067 - accuracy: 0.9984 - val_loss: 0.4055 - val_accuracy: 0.9236\n",
      "Epoch 101/200\n",
      "173/173 [==============================] - 90s 523ms/step - loss: 0.0044 - accuracy: 0.9987 - val_loss: 0.4078 - val_accuracy: 0.9228\n",
      "Epoch 102/200\n",
      "173/173 [==============================] - 91s 524ms/step - loss: 0.0047 - accuracy: 0.9987 - val_loss: 0.4083 - val_accuracy: 0.9244\n",
      "Epoch 103/200\n",
      "173/173 [==============================] - 91s 526ms/step - loss: 0.0059 - accuracy: 0.9985 - val_loss: 0.4039 - val_accuracy: 0.9236\n",
      "Epoch 104/200\n",
      "173/173 [==============================] - 91s 529ms/step - loss: 0.0045 - accuracy: 0.9989 - val_loss: 0.3991 - val_accuracy: 0.9259\n",
      "Epoch 105/200\n",
      "173/173 [==============================] - 91s 524ms/step - loss: 0.0045 - accuracy: 0.9987 - val_loss: 0.4011 - val_accuracy: 0.9267\n",
      "Epoch 106/200\n",
      "173/173 [==============================] - 91s 527ms/step - loss: 0.0045 - accuracy: 0.9989 - val_loss: 0.3984 - val_accuracy: 0.9251\n",
      "Epoch 107/200\n",
      "173/173 [==============================] - 92s 529ms/step - loss: 0.0048 - accuracy: 0.9989 - val_loss: 0.3965 - val_accuracy: 0.9274\n",
      "Epoch 108/200\n"
     ]
    },
    {
     "name": "stdout",
     "output_type": "stream",
     "text": [
      "173/173 [==============================] - 91s 523ms/step - loss: 0.0047 - accuracy: 0.9985 - val_loss: 0.3978 - val_accuracy: 0.9259\n",
      "Epoch 109/200\n",
      "173/173 [==============================] - 91s 526ms/step - loss: 0.0057 - accuracy: 0.9985 - val_loss: 0.4132 - val_accuracy: 0.9251\n",
      "Epoch 110/200\n",
      "173/173 [==============================] - 91s 527ms/step - loss: 0.0045 - accuracy: 0.9989 - val_loss: 0.4123 - val_accuracy: 0.9251\n",
      "Epoch 111/200\n",
      "173/173 [==============================] - 91s 525ms/step - loss: 0.0043 - accuracy: 0.9989 - val_loss: 0.4098 - val_accuracy: 0.9244\n",
      "Epoch 112/200\n",
      "173/173 [==============================] - 90s 521ms/step - loss: 0.0045 - accuracy: 0.9989 - val_loss: 0.4060 - val_accuracy: 0.9251\n",
      "Epoch 113/200\n",
      "173/173 [==============================] - 90s 521ms/step - loss: 0.0041 - accuracy: 0.9991 - val_loss: 0.4070 - val_accuracy: 0.9236\n",
      "Epoch 114/200\n",
      "173/173 [==============================] - 89s 514ms/step - loss: 0.0044 - accuracy: 0.9989 - val_loss: 0.4086 - val_accuracy: 0.9228\n",
      "Epoch 115/200\n",
      "173/173 [==============================] - 89s 516ms/step - loss: 0.0042 - accuracy: 0.9991 - val_loss: 0.4087 - val_accuracy: 0.9228\n",
      "Epoch 116/200\n",
      "173/173 [==============================] - 90s 518ms/step - loss: 0.0050 - accuracy: 0.9985 - val_loss: 0.4137 - val_accuracy: 0.9251\n",
      "Epoch 117/200\n",
      "173/173 [==============================] - 89s 517ms/step - loss: 0.0045 - accuracy: 0.9987 - val_loss: 0.4082 - val_accuracy: 0.9251\n",
      "Epoch 118/200\n",
      "173/173 [==============================] - 90s 520ms/step - loss: 0.0044 - accuracy: 0.9987 - val_loss: 0.4063 - val_accuracy: 0.9244\n",
      "Epoch 119/200\n",
      "172/173 [============================>.] - ETA: 0s - loss: 0.0043 - accuracy: 0.9985\n",
      "Epoch 00119: ReduceLROnPlateau reducing learning rate to 9.999999747378752e-07.\n",
      "173/173 [==============================] - 90s 519ms/step - loss: 0.0043 - accuracy: 0.9985 - val_loss: 0.4070 - val_accuracy: 0.9259\n",
      "Epoch 120/200\n",
      "173/173 [==============================] - 89s 515ms/step - loss: 0.0041 - accuracy: 0.9991 - val_loss: 0.4073 - val_accuracy: 0.9259\n",
      "Epoch 121/200\n",
      "173/173 [==============================] - 90s 518ms/step - loss: 0.0052 - accuracy: 0.9987 - val_loss: 0.4075 - val_accuracy: 0.9259\n",
      "Epoch 122/200\n",
      "173/173 [==============================] - 90s 522ms/step - loss: 0.0046 - accuracy: 0.9987 - val_loss: 0.4073 - val_accuracy: 0.9267\n",
      "Epoch 123/200\n",
      "173/173 [==============================] - 90s 520ms/step - loss: 0.0040 - accuracy: 0.9991 - val_loss: 0.4072 - val_accuracy: 0.9267\n",
      "Epoch 124/200\n",
      "173/173 [==============================] - 90s 518ms/step - loss: 0.0040 - accuracy: 0.9993 - val_loss: 0.4074 - val_accuracy: 0.9267\n",
      "Epoch 125/200\n",
      "173/173 [==============================] - 91s 523ms/step - loss: 0.0051 - accuracy: 0.9989 - val_loss: 0.4070 - val_accuracy: 0.9267\n",
      "Epoch 126/200\n",
      "173/173 [==============================] - 90s 521ms/step - loss: 0.0040 - accuracy: 0.9991 - val_loss: 0.4070 - val_accuracy: 0.9267\n",
      "Epoch 127/200\n",
      "173/173 [==============================] - 90s 523ms/step - loss: 0.0042 - accuracy: 0.9987 - val_loss: 0.4072 - val_accuracy: 0.9267\n",
      "Epoch 128/200\n",
      "173/173 [==============================] - 91s 524ms/step - loss: 0.0041 - accuracy: 0.9989 - val_loss: 0.4063 - val_accuracy: 0.9259\n",
      "Epoch 129/200\n",
      "173/173 [==============================] - 91s 526ms/step - loss: 0.0040 - accuracy: 0.9991 - val_loss: 0.4064 - val_accuracy: 0.9259\n",
      "Epoch 130/200\n",
      "173/173 [==============================] - 91s 523ms/step - loss: 0.0051 - accuracy: 0.9989 - val_loss: 0.4064 - val_accuracy: 0.9251\n",
      "Epoch 131/200\n",
      "173/173 [==============================] - 91s 528ms/step - loss: 0.0040 - accuracy: 0.9991 - val_loss: 0.4060 - val_accuracy: 0.9251\n",
      "Epoch 00131: early stopping\n"
     ]
    }
   ],
   "source": [
    "# train the model for 200 epochs\n",
    "history = model.fit_generator(\n",
    "    train_generator, \n",
    "    validation_data=val_generator, \n",
    "    steps_per_epoch=num_train, \n",
    "    validation_steps=num_val, \n",
    "    epochs=200, \n",
    "    shuffle=True, \n",
    "    callbacks=[reduce_lr, early_stop, checkpoint]\n",
    ")"
   ]
  },
  {
   "cell_type": "code",
   "execution_count": 12,
   "metadata": {
    "colab": {
     "base_uri": "https://localhost:8080/",
     "height": 54
    },
    "colab_type": "code",
    "id": "7QuEZ2Qc0KHz",
    "outputId": "35456e33-6305-4d4b-f7b2-62b14101a765"
   },
   "outputs": [
    {
     "name": "stdout",
     "output_type": "stream",
     "text": [
      "WARNING:tensorflow:Entity <function Function._initialize_uninitialized_variables.<locals>.initialize_variables at 0x7f0dbb349dd0> could not be transformed and will be executed as-is. Please report this to the AutoGraph team. When filing the bug, set the verbosity to 10 (on Linux, `export AUTOGRAPH_VERBOSITY=10`) and attach the full output. Cause: converting <function Function._initialize_uninitialized_variables.<locals>.initialize_variables at 0x7f0dbb349dd0>: AttributeError: module 'gast' has no attribute 'Num'\n",
      "WARNING: Entity <function Function._initialize_uninitialized_variables.<locals>.initialize_variables at 0x7f0dbb349dd0> could not be transformed and will be executed as-is. Please report this to the AutoGraph team. When filing the bug, set the verbosity to 10 (on Linux, `export AUTOGRAPH_VERBOSITY=10`) and attach the full output. Cause: converting <function Function._initialize_uninitialized_variables.<locals>.initialize_variables at 0x7f0dbb349dd0>: AttributeError: module 'gast' has no attribute 'Num'\n",
      "INFO:tensorflow:Converted 264 variables to const ops.\n"
     ]
    },
    {
     "data": {
      "text/plain": [
       "14713844"
      ]
     },
     "execution_count": 12,
     "metadata": {},
     "output_type": "execute_result"
    }
   ],
   "source": [
    "model.load_weights('best_model.h5')\n",
    "# make a converter which converts our keras model into TFLite model\n",
    "converter = tf.lite.TFLiteConverter.from_keras_model(model)\n",
    "# get the result\n",
    "tflite_model = converter.convert()\n",
    "# save the converted model\n",
    "open('model.tflite', 'wb').write(tflite_model)"
   ]
  },
  {
   "cell_type": "code",
   "execution_count": 13,
   "metadata": {},
   "outputs": [],
   "source": [
    "import matplotlib.pyplot as plt"
   ]
  },
  {
   "cell_type": "code",
   "execution_count": 14,
   "metadata": {
    "colab": {
     "base_uri": "https://localhost:8080/",
     "height": 551
    },
    "colab_type": "code",
    "id": "qIQDaRoe5EBB",
    "outputId": "d45ee1b7-10b2-4551-f191-4d28c09f7436"
   },
   "outputs": [
    {
     "data": {
      "image/png": "[encoded data removed]",
      "text/plain": [
       "<Figure size 720x360 with 2 Axes>"
      ]
     },
     "metadata": {
      "needs_background": "light"
     },
     "output_type": "display_data"
    }
   ],
   "source": [
    "# plot training and validation iou_score values\n",
    "plt.figure(figsize=(10, 5))\n",
    "plt.subplot(1, 2, 1)\n",
    "plt.plot(history.history['accuracy'])\n",
    "plt.plot(history.history['val_accuracy'])\n",
    "plt.title('Model accuracy')\n",
    "plt.ylabel('accy')\n",
    "plt.xlabel('Epoch')\n",
    "plt.legend(['Train', 'Val'], loc='upper left')\n",
    "\n",
    "# Plot training and validation loss values\n",
    "plt.subplot(1, 2, 2)\n",
    "plt.plot(history.history['loss'])\n",
    "plt.plot(history.history['val_loss'])\n",
    "plt.title('Model loss')\n",
    "plt.ylabel('Loss')\n",
    "plt.xlabel('Epoch')\n",
    "plt.legend(['Train', 'Val'], loc='upper left')\n",
    "plt.show()"
   ]
  }
 ],
 "metadata": {
  "accelerator": "GPU",
  "colab": {
   "collapsed_sections": [],
   "name": "pokemon-classfier.ipynb",
   "provenance": []
  },
  "kernelspec": {
   "display_name": "Python 3",
   "language": "python",
   "name": "python3"
  },
  "language_info": {
   "codemirror_mode": {
    "name": "ipython",
    "version": 3
   },
   "file_extension": ".py",
   "mimetype": "text/x-python",
   "name": "python",
   "nbconvert_exporter": "python",
   "pygments_lexer": "ipython3",
   "version": "3.7.4"
  }
 },
 "nbformat": 4,
 "nbformat_minor": 1
}
